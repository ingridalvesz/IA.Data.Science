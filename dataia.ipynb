{
 "cells": [
  {
   "cell_type": "code",
   "execution_count": 36,
   "metadata": {},
   "outputs": [],
   "source": [
    "#Primeiramente, importaremos a biblioteca\n",
    "import pandas as pd\n",
    "import matplotlib.pyplot as plt"
   ]
  },
  {
   "cell_type": "code",
   "execution_count": 37,
   "metadata": {},
   "outputs": [],
   "source": [
    "#URLs para referência\n",
    "url_clientes = \"https://raw.githubusercontent.com/alura-cursos/ia-datascience-dataviz/main/dados/zoop_clientes.csv\"\n",
    "\n",
    "url_vendas = \"https://raw.githubusercontent.com/alura-cursos/ia-datascience-dataviz/main/dados/zoop_vendas.csv\""
   ]
  },
  {
   "cell_type": "code",
   "execution_count": 38,
   "metadata": {},
   "outputs": [
    {
     "data": {
      "text/html": [
       "<div>\n",
       "<style scoped>\n",
       "    .dataframe tbody tr th:only-of-type {\n",
       "        vertical-align: middle;\n",
       "    }\n",
       "\n",
       "    .dataframe tbody tr th {\n",
       "        vertical-align: top;\n",
       "    }\n",
       "\n",
       "    .dataframe thead th {\n",
       "        text-align: right;\n",
       "    }\n",
       "</style>\n",
       "<table border=\"1\" class=\"dataframe\">\n",
       "  <thead>\n",
       "    <tr style=\"text-align: right;\">\n",
       "      <th></th>\n",
       "      <th>ID_compra</th>\n",
       "      <th>ID_cliente</th>\n",
       "      <th>cidade</th>\n",
       "      <th>uf</th>\n",
       "      <th>regiao</th>\n",
       "      <th>idade</th>\n",
       "      <th>sexo_biologico</th>\n",
       "      <th>cashback</th>\n",
       "      <th>avaliacao_compra</th>\n",
       "    </tr>\n",
       "  </thead>\n",
       "  <tbody>\n",
       "    <tr>\n",
       "      <th>0</th>\n",
       "      <td>904</td>\n",
       "      <td>8972</td>\n",
       "      <td>Natal</td>\n",
       "      <td>Rio Grande do Norte</td>\n",
       "      <td>Nordeste</td>\n",
       "      <td>49</td>\n",
       "      <td>Masculino</td>\n",
       "      <td>Não</td>\n",
       "      <td>9</td>\n",
       "    </tr>\n",
       "    <tr>\n",
       "      <th>1</th>\n",
       "      <td>4613</td>\n",
       "      <td>5120</td>\n",
       "      <td>São Paulo</td>\n",
       "      <td>São Paulo</td>\n",
       "      <td>Sudeste</td>\n",
       "      <td>49</td>\n",
       "      <td>Feminino</td>\n",
       "      <td>Não</td>\n",
       "      <td>9</td>\n",
       "    </tr>\n",
       "    <tr>\n",
       "      <th>2</th>\n",
       "      <td>5579</td>\n",
       "      <td>1847</td>\n",
       "      <td>São Paulo</td>\n",
       "      <td>São Paulo</td>\n",
       "      <td>Sudeste</td>\n",
       "      <td>24</td>\n",
       "      <td>Feminino</td>\n",
       "      <td>Não</td>\n",
       "      <td>8</td>\n",
       "    </tr>\n",
       "    <tr>\n",
       "      <th>3</th>\n",
       "      <td>2405</td>\n",
       "      <td>2846</td>\n",
       "      <td>São Paulo</td>\n",
       "      <td>São Paulo</td>\n",
       "      <td>Sudeste</td>\n",
       "      <td>38</td>\n",
       "      <td>Feminino</td>\n",
       "      <td>Sim</td>\n",
       "      <td>7</td>\n",
       "    </tr>\n",
       "    <tr>\n",
       "      <th>4</th>\n",
       "      <td>2485</td>\n",
       "      <td>2715</td>\n",
       "      <td>Salvador</td>\n",
       "      <td>Bahia</td>\n",
       "      <td>Nordeste</td>\n",
       "      <td>30</td>\n",
       "      <td>Feminino</td>\n",
       "      <td>Não</td>\n",
       "      <td>10</td>\n",
       "    </tr>\n",
       "  </tbody>\n",
       "</table>\n",
       "</div>"
      ],
      "text/plain": [
       "   ID_compra  ID_cliente     cidade                   uf    regiao  idade  \\\n",
       "0        904        8972      Natal  Rio Grande do Norte  Nordeste     49   \n",
       "1       4613        5120  São Paulo            São Paulo   Sudeste     49   \n",
       "2       5579        1847  São Paulo            São Paulo   Sudeste     24   \n",
       "3       2405        2846  São Paulo            São Paulo   Sudeste     38   \n",
       "4       2485        2715   Salvador                Bahia  Nordeste     30   \n",
       "\n",
       "  sexo_biologico cashback  avaliacao_compra  \n",
       "0      Masculino      Não                 9  \n",
       "1       Feminino      Não                 9  \n",
       "2       Feminino      Não                 8  \n",
       "3       Feminino      Sim                 7  \n",
       "4       Feminino      Não                10  "
      ]
     },
     "execution_count": 38,
     "metadata": {},
     "output_type": "execute_result"
    }
   ],
   "source": [
    "#lendo CSV clientes\n",
    "clientes = pd.read_csv(url_clientes)\n",
    "\n",
    "clientes.head()"
   ]
  },
  {
   "cell_type": "markdown",
   "metadata": {},
   "source": [
    "Entendendo o DataFrame de clites"
   ]
  },
  {
   "cell_type": "code",
   "execution_count": 39,
   "metadata": {},
   "outputs": [
    {
     "data": {
      "text/html": [
       "<div>\n",
       "<style scoped>\n",
       "    .dataframe tbody tr th:only-of-type {\n",
       "        vertical-align: middle;\n",
       "    }\n",
       "\n",
       "    .dataframe tbody tr th {\n",
       "        vertical-align: top;\n",
       "    }\n",
       "\n",
       "    .dataframe thead th {\n",
       "        text-align: right;\n",
       "    }\n",
       "</style>\n",
       "<table border=\"1\" class=\"dataframe\">\n",
       "  <thead>\n",
       "    <tr style=\"text-align: right;\">\n",
       "      <th></th>\n",
       "      <th>ID_compra</th>\n",
       "      <th>data</th>\n",
       "      <th>horario</th>\n",
       "      <th>categoria</th>\n",
       "      <th>preco_unitario</th>\n",
       "      <th>quantidade</th>\n",
       "      <th>frete</th>\n",
       "      <th>metodo_pagamento</th>\n",
       "    </tr>\n",
       "  </thead>\n",
       "  <tbody>\n",
       "    <tr>\n",
       "      <th>0</th>\n",
       "      <td>6</td>\n",
       "      <td>2023-01-03</td>\n",
       "      <td>20:40</td>\n",
       "      <td>Eletrônicos</td>\n",
       "      <td>4457.9</td>\n",
       "      <td>4</td>\n",
       "      <td>713.26</td>\n",
       "      <td>Boleto</td>\n",
       "    </tr>\n",
       "    <tr>\n",
       "      <th>1</th>\n",
       "      <td>5</td>\n",
       "      <td>2023-01-03</td>\n",
       "      <td>21:48</td>\n",
       "      <td>Ferramentas e construção</td>\n",
       "      <td>115.9</td>\n",
       "      <td>1</td>\n",
       "      <td>0.00</td>\n",
       "      <td>PIX</td>\n",
       "    </tr>\n",
       "    <tr>\n",
       "      <th>2</th>\n",
       "      <td>9</td>\n",
       "      <td>2023-01-03</td>\n",
       "      <td>17:08</td>\n",
       "      <td>Beleza e cuidados pessoais</td>\n",
       "      <td>68.9</td>\n",
       "      <td>2</td>\n",
       "      <td>13.78</td>\n",
       "      <td>Cartão de Crédito</td>\n",
       "    </tr>\n",
       "    <tr>\n",
       "      <th>3</th>\n",
       "      <td>4</td>\n",
       "      <td>2023-01-03</td>\n",
       "      <td>14:29</td>\n",
       "      <td>Ferramentas e construção</td>\n",
       "      <td>80.9</td>\n",
       "      <td>5</td>\n",
       "      <td>40.45</td>\n",
       "      <td>PIX</td>\n",
       "    </tr>\n",
       "    <tr>\n",
       "      <th>4</th>\n",
       "      <td>8</td>\n",
       "      <td>2023-01-03</td>\n",
       "      <td>18:02</td>\n",
       "      <td>Beleza e cuidados pessoais</td>\n",
       "      <td>165.0</td>\n",
       "      <td>4</td>\n",
       "      <td>0.00</td>\n",
       "      <td>PIX</td>\n",
       "    </tr>\n",
       "  </tbody>\n",
       "</table>\n",
       "</div>"
      ],
      "text/plain": [
       "   ID_compra        data horario                   categoria  preco_unitario  \\\n",
       "0          6  2023-01-03   20:40                 Eletrônicos          4457.9   \n",
       "1          5  2023-01-03   21:48    Ferramentas e construção           115.9   \n",
       "2          9  2023-01-03   17:08  Beleza e cuidados pessoais            68.9   \n",
       "3          4  2023-01-03   14:29    Ferramentas e construção            80.9   \n",
       "4          8  2023-01-03   18:02  Beleza e cuidados pessoais           165.0   \n",
       "\n",
       "   quantidade   frete   metodo_pagamento  \n",
       "0           4  713.26             Boleto  \n",
       "1           1    0.00                PIX  \n",
       "2           2   13.78  Cartão de Crédito  \n",
       "3           5   40.45                PIX  \n",
       "4           4    0.00                PIX  "
      ]
     },
     "execution_count": 39,
     "metadata": {},
     "output_type": "execute_result"
    }
   ],
   "source": [
    "#lendo CSV vendas\n",
    "vendas = pd.read_csv(url_vendas)\n",
    "\n",
    "vendas.head()"
   ]
  },
  {
   "cell_type": "code",
   "execution_count": 40,
   "metadata": {},
   "outputs": [
    {
     "name": "stdout",
     "output_type": "stream",
     "text": [
      "<class 'pandas.core.frame.DataFrame'>\n",
      "RangeIndex: 6169 entries, 0 to 6168\n",
      "Data columns (total 9 columns):\n",
      " #   Column            Non-Null Count  Dtype \n",
      "---  ------            --------------  ----- \n",
      " 0   ID_compra         6169 non-null   int64 \n",
      " 1   ID_cliente        6169 non-null   int64 \n",
      " 2   cidade            6169 non-null   object\n",
      " 3   uf                6169 non-null   object\n",
      " 4   regiao            6169 non-null   object\n",
      " 5   idade             6169 non-null   int64 \n",
      " 6   sexo_biologico    6169 non-null   object\n",
      " 7   cashback          6169 non-null   object\n",
      " 8   avaliacao_compra  6169 non-null   int64 \n",
      "dtypes: int64(4), object(5)\n",
      "memory usage: 433.9+ KB\n"
     ]
    }
   ],
   "source": [
    "# Obtendo informações gerais sobre o DataFrame, como tipos de dados e valores não nulos\n",
    "clientes.info()"
   ]
  },
  {
   "cell_type": "code",
   "execution_count": 41,
   "metadata": {},
   "outputs": [
    {
     "data": {
      "text/html": [
       "<div>\n",
       "<style scoped>\n",
       "    .dataframe tbody tr th:only-of-type {\n",
       "        vertical-align: middle;\n",
       "    }\n",
       "\n",
       "    .dataframe tbody tr th {\n",
       "        vertical-align: top;\n",
       "    }\n",
       "\n",
       "    .dataframe thead th {\n",
       "        text-align: right;\n",
       "    }\n",
       "</style>\n",
       "<table border=\"1\" class=\"dataframe\">\n",
       "  <thead>\n",
       "    <tr style=\"text-align: right;\">\n",
       "      <th></th>\n",
       "      <th>ID_compra</th>\n",
       "      <th>ID_cliente</th>\n",
       "      <th>idade</th>\n",
       "      <th>avaliacao_compra</th>\n",
       "    </tr>\n",
       "  </thead>\n",
       "  <tbody>\n",
       "    <tr>\n",
       "      <th>count</th>\n",
       "      <td>6169.000000</td>\n",
       "      <td>6169.000000</td>\n",
       "      <td>6169.000000</td>\n",
       "      <td>6169.000000</td>\n",
       "    </tr>\n",
       "    <tr>\n",
       "      <th>mean</th>\n",
       "      <td>3085.000000</td>\n",
       "      <td>5461.475280</td>\n",
       "      <td>38.260010</td>\n",
       "      <td>8.443670</td>\n",
       "    </tr>\n",
       "    <tr>\n",
       "      <th>std</th>\n",
       "      <td>1780.981237</td>\n",
       "      <td>2610.959977</td>\n",
       "      <td>9.838951</td>\n",
       "      <td>1.730584</td>\n",
       "    </tr>\n",
       "    <tr>\n",
       "      <th>min</th>\n",
       "      <td>1.000000</td>\n",
       "      <td>1005.000000</td>\n",
       "      <td>18.000000</td>\n",
       "      <td>0.000000</td>\n",
       "    </tr>\n",
       "    <tr>\n",
       "      <th>25%</th>\n",
       "      <td>1543.000000</td>\n",
       "      <td>3148.000000</td>\n",
       "      <td>31.000000</td>\n",
       "      <td>8.000000</td>\n",
       "    </tr>\n",
       "    <tr>\n",
       "      <th>50%</th>\n",
       "      <td>3085.000000</td>\n",
       "      <td>5436.000000</td>\n",
       "      <td>38.000000</td>\n",
       "      <td>9.000000</td>\n",
       "    </tr>\n",
       "    <tr>\n",
       "      <th>75%</th>\n",
       "      <td>4627.000000</td>\n",
       "      <td>7748.000000</td>\n",
       "      <td>45.000000</td>\n",
       "      <td>9.000000</td>\n",
       "    </tr>\n",
       "    <tr>\n",
       "      <th>max</th>\n",
       "      <td>6169.000000</td>\n",
       "      <td>9999.000000</td>\n",
       "      <td>70.000000</td>\n",
       "      <td>10.000000</td>\n",
       "    </tr>\n",
       "  </tbody>\n",
       "</table>\n",
       "</div>"
      ],
      "text/plain": [
       "         ID_compra   ID_cliente        idade  avaliacao_compra\n",
       "count  6169.000000  6169.000000  6169.000000       6169.000000\n",
       "mean   3085.000000  5461.475280    38.260010          8.443670\n",
       "std    1780.981237  2610.959977     9.838951          1.730584\n",
       "min       1.000000  1005.000000    18.000000          0.000000\n",
       "25%    1543.000000  3148.000000    31.000000          8.000000\n",
       "50%    3085.000000  5436.000000    38.000000          9.000000\n",
       "75%    4627.000000  7748.000000    45.000000          9.000000\n",
       "max    6169.000000  9999.000000    70.000000         10.000000"
      ]
     },
     "execution_count": 41,
     "metadata": {},
     "output_type": "execute_result"
    }
   ],
   "source": [
    "# Estatísticas descritivas para variáveis numéricas\n",
    "clientes.describe()"
   ]
  },
  {
   "cell_type": "code",
   "execution_count": 42,
   "metadata": {},
   "outputs": [
    {
     "data": {
      "text/plain": [
       "sexo_biologico\n",
       "Feminino     3371\n",
       "Masculino    2798\n",
       "Name: count, dtype: int64"
      ]
     },
     "execution_count": 42,
     "metadata": {},
     "output_type": "execute_result"
    }
   ],
   "source": [
    "# Contagem de clientes por sexo\n",
    "clientes['sexo_biologico'].value_counts()"
   ]
  },
  {
   "cell_type": "code",
   "execution_count": 43,
   "metadata": {},
   "outputs": [
    {
     "data": {
      "text/plain": [
       "38.2600097260496"
      ]
     },
     "execution_count": 43,
     "metadata": {},
     "output_type": "execute_result"
    }
   ],
   "source": [
    "# Média de idade dos clientes\n",
    "clientes['idade'].mean()"
   ]
  },
  {
   "cell_type": "code",
   "execution_count": 44,
   "metadata": {},
   "outputs": [
    {
     "data": {
      "text/plain": [
       "regiao\n",
       "Sudeste         2666\n",
       "Nordeste        1882\n",
       "Sul              819\n",
       "Centro-Oeste     495\n",
       "Norte            307\n",
       "Name: count, dtype: int64"
      ]
     },
     "execution_count": 44,
     "metadata": {},
     "output_type": "execute_result"
    }
   ],
   "source": [
    "# Contagem de clientes por região\n",
    "clientes['regiao'].value_counts()"
   ]
  },
  {
   "cell_type": "code",
   "execution_count": 45,
   "metadata": {},
   "outputs": [
    {
     "data": {
      "text/plain": [
       "8.44366996271681"
      ]
     },
     "execution_count": 45,
     "metadata": {},
     "output_type": "execute_result"
    }
   ],
   "source": [
    "# Avaliação média das compras\n",
    "clientes['avaliacao_compra'].mean()"
   ]
  },
  {
   "cell_type": "code",
   "execution_count": 46,
   "metadata": {},
   "outputs": [
    {
     "data": {
      "text/plain": [
       "cashback\n",
       "Não    3557\n",
       "Sim    2612\n",
       "Name: count, dtype: int64"
      ]
     },
     "execution_count": 46,
     "metadata": {},
     "output_type": "execute_result"
    }
   ],
   "source": [
    "# Verificando a participação no programa de cashback\n",
    "clientes['cashback'].value_counts()"
   ]
  },
  {
   "cell_type": "markdown",
   "metadata": {},
   "source": [
    "Entendendo o DataFrame de vendas"
   ]
  },
  {
   "cell_type": "code",
   "execution_count": 47,
   "metadata": {},
   "outputs": [
    {
     "name": "stdout",
     "output_type": "stream",
     "text": [
      "<class 'pandas.core.frame.DataFrame'>\n",
      "RangeIndex: 6169 entries, 0 to 6168\n",
      "Data columns (total 8 columns):\n",
      " #   Column            Non-Null Count  Dtype  \n",
      "---  ------            --------------  -----  \n",
      " 0   ID_compra         6169 non-null   int64  \n",
      " 1   data              6169 non-null   object \n",
      " 2   horario           6169 non-null   object \n",
      " 3   categoria         6169 non-null   object \n",
      " 4   preco_unitario    6169 non-null   float64\n",
      " 5   quantidade        6169 non-null   int64  \n",
      " 6   frete             6169 non-null   float64\n",
      " 7   metodo_pagamento  6169 non-null   object \n",
      "dtypes: float64(2), int64(2), object(4)\n",
      "memory usage: 385.7+ KB\n"
     ]
    }
   ],
   "source": [
    "# Obtendo informações gerais sobre o DataFrame, como tipos de dados e valores não nulos\n",
    "vendas.info()"
   ]
  },
  {
   "cell_type": "code",
   "execution_count": 48,
   "metadata": {},
   "outputs": [],
   "source": [
    "#transformando a deata de object para datetime64\n",
    "vendas[\"data\"] = pd.to_datetime(vendas[\"data\"], format=\"%Y-%m-%d\")"
   ]
  },
  {
   "cell_type": "code",
   "execution_count": 49,
   "metadata": {},
   "outputs": [
    {
     "name": "stdout",
     "output_type": "stream",
     "text": [
      "<class 'pandas.core.frame.DataFrame'>\n",
      "RangeIndex: 6169 entries, 0 to 6168\n",
      "Data columns (total 8 columns):\n",
      " #   Column            Non-Null Count  Dtype         \n",
      "---  ------            --------------  -----         \n",
      " 0   ID_compra         6169 non-null   int64         \n",
      " 1   data              6169 non-null   datetime64[ns]\n",
      " 2   horario           6169 non-null   object        \n",
      " 3   categoria         6169 non-null   object        \n",
      " 4   preco_unitario    6169 non-null   float64       \n",
      " 5   quantidade        6169 non-null   int64         \n",
      " 6   frete             6169 non-null   float64       \n",
      " 7   metodo_pagamento  6169 non-null   object        \n",
      "dtypes: datetime64[ns](1), float64(2), int64(2), object(3)\n",
      "memory usage: 385.7+ KB\n"
     ]
    }
   ],
   "source": [
    "#verificando as novas informações\n",
    "vendas.info()"
   ]
  },
  {
   "cell_type": "code",
   "execution_count": 50,
   "metadata": {},
   "outputs": [
    {
     "data": {
      "text/html": [
       "<div>\n",
       "<style scoped>\n",
       "    .dataframe tbody tr th:only-of-type {\n",
       "        vertical-align: middle;\n",
       "    }\n",
       "\n",
       "    .dataframe tbody tr th {\n",
       "        vertical-align: top;\n",
       "    }\n",
       "\n",
       "    .dataframe thead th {\n",
       "        text-align: right;\n",
       "    }\n",
       "</style>\n",
       "<table border=\"1\" class=\"dataframe\">\n",
       "  <thead>\n",
       "    <tr style=\"text-align: right;\">\n",
       "      <th></th>\n",
       "      <th>ID_compra</th>\n",
       "      <th>data</th>\n",
       "      <th>preco_unitario</th>\n",
       "      <th>quantidade</th>\n",
       "      <th>frete</th>\n",
       "    </tr>\n",
       "  </thead>\n",
       "  <tbody>\n",
       "    <tr>\n",
       "      <th>count</th>\n",
       "      <td>6169.000000</td>\n",
       "      <td>6169</td>\n",
       "      <td>6169.000000</td>\n",
       "      <td>6169.000000</td>\n",
       "      <td>6169.000000</td>\n",
       "    </tr>\n",
       "    <tr>\n",
       "      <th>mean</th>\n",
       "      <td>3085.000000</td>\n",
       "      <td>2023-08-20 00:12:22.292105984</td>\n",
       "      <td>873.234738</td>\n",
       "      <td>3.004863</td>\n",
       "      <td>119.233832</td>\n",
       "    </tr>\n",
       "    <tr>\n",
       "      <th>min</th>\n",
       "      <td>1.000000</td>\n",
       "      <td>2023-01-03 00:00:00</td>\n",
       "      <td>2.900000</td>\n",
       "      <td>1.000000</td>\n",
       "      <td>0.000000</td>\n",
       "    </tr>\n",
       "    <tr>\n",
       "      <th>25%</th>\n",
       "      <td>1543.000000</td>\n",
       "      <td>2023-05-30 00:00:00</td>\n",
       "      <td>44.900000</td>\n",
       "      <td>2.000000</td>\n",
       "      <td>0.320000</td>\n",
       "    </tr>\n",
       "    <tr>\n",
       "      <th>50%</th>\n",
       "      <td>3085.000000</td>\n",
       "      <td>2023-08-31 00:00:00</td>\n",
       "      <td>93.900000</td>\n",
       "      <td>3.000000</td>\n",
       "      <td>7.550000</td>\n",
       "    </tr>\n",
       "    <tr>\n",
       "      <th>75%</th>\n",
       "      <td>4627.000000</td>\n",
       "      <td>2023-11-23 00:00:00</td>\n",
       "      <td>221.900000</td>\n",
       "      <td>4.000000</td>\n",
       "      <td>29.240000</td>\n",
       "    </tr>\n",
       "    <tr>\n",
       "      <th>max</th>\n",
       "      <td>6169.000000</td>\n",
       "      <td>2023-12-31 00:00:00</td>\n",
       "      <td>8000.000000</td>\n",
       "      <td>5.000000</td>\n",
       "      <td>4521.540000</td>\n",
       "    </tr>\n",
       "    <tr>\n",
       "      <th>std</th>\n",
       "      <td>1780.981237</td>\n",
       "      <td>NaN</td>\n",
       "      <td>1852.064342</td>\n",
       "      <td>1.420725</td>\n",
       "      <td>366.149225</td>\n",
       "    </tr>\n",
       "  </tbody>\n",
       "</table>\n",
       "</div>"
      ],
      "text/plain": [
       "         ID_compra                           data  preco_unitario  \\\n",
       "count  6169.000000                           6169     6169.000000   \n",
       "mean   3085.000000  2023-08-20 00:12:22.292105984      873.234738   \n",
       "min       1.000000            2023-01-03 00:00:00        2.900000   \n",
       "25%    1543.000000            2023-05-30 00:00:00       44.900000   \n",
       "50%    3085.000000            2023-08-31 00:00:00       93.900000   \n",
       "75%    4627.000000            2023-11-23 00:00:00      221.900000   \n",
       "max    6169.000000            2023-12-31 00:00:00     8000.000000   \n",
       "std    1780.981237                            NaN     1852.064342   \n",
       "\n",
       "        quantidade        frete  \n",
       "count  6169.000000  6169.000000  \n",
       "mean      3.004863   119.233832  \n",
       "min       1.000000     0.000000  \n",
       "25%       2.000000     0.320000  \n",
       "50%       3.000000     7.550000  \n",
       "75%       4.000000    29.240000  \n",
       "max       5.000000  4521.540000  \n",
       "std       1.420725   366.149225  "
      ]
     },
     "execution_count": 50,
     "metadata": {},
     "output_type": "execute_result"
    }
   ],
   "source": [
    "# Estatísticas descritivas para variáveis numéricas\n",
    "vendas.describe()"
   ]
  },
  {
   "cell_type": "code",
   "execution_count": 51,
   "metadata": {},
   "outputs": [
    {
     "data": {
      "text/plain": [
       "categoria\n",
       "Alimentos e bebidas           1495\n",
       "Beleza e cuidados pessoais    1062\n",
       "Casa e limpeza                1041\n",
       "Eletrodomésticos               665\n",
       "Eletrônicos                    580\n",
       "Papelaria e escritório         551\n",
       "Ferramentas e construção       474\n",
       "Livros                         301\n",
       "Name: count, dtype: int64"
      ]
     },
     "execution_count": 51,
     "metadata": {},
     "output_type": "execute_result"
    }
   ],
   "source": [
    "# Contagem de vendas por categoria de produto\n",
    "vendas['categoria'].value_counts()"
   ]
  },
  {
   "cell_type": "code",
   "execution_count": 52,
   "metadata": {},
   "outputs": [
    {
     "data": {
      "text/plain": [
       "873.2347382071648"
      ]
     },
     "execution_count": 52,
     "metadata": {},
     "output_type": "execute_result"
    }
   ],
   "source": [
    "# Preço médio unitário dos produtos\n",
    "vendas['preco_unitario'].mean()"
   ]
  },
  {
   "cell_type": "code",
   "execution_count": 53,
   "metadata": {},
   "outputs": [
    {
     "data": {
      "text/plain": [
       "18537"
      ]
     },
     "execution_count": 53,
     "metadata": {},
     "output_type": "execute_result"
    }
   ],
   "source": [
    "# Quantidade total de produtos vendidos\n",
    "vendas['quantidade'].sum()"
   ]
  },
  {
   "cell_type": "code",
   "execution_count": 54,
   "metadata": {},
   "outputs": [
    {
     "data": {
      "text/plain": [
       "735553.51"
      ]
     },
     "execution_count": 54,
     "metadata": {},
     "output_type": "execute_result"
    }
   ],
   "source": [
    "# Valor total do frete arrecadado\n",
    "vendas['frete'].sum()"
   ]
  },
  {
   "cell_type": "code",
   "execution_count": 55,
   "metadata": {},
   "outputs": [
    {
     "data": {
      "text/plain": [
       "metodo_pagamento\n",
       "Cartão de Crédito    2851\n",
       "PIX                  2244\n",
       "Cartão de Débito      547\n",
       "Boleto                527\n",
       "Name: count, dtype: int64"
      ]
     },
     "execution_count": 55,
     "metadata": {},
     "output_type": "execute_result"
    }
   ],
   "source": [
    "# Métodos de pagamento utilizados e suas frequências\n",
    "vendas['metodo_pagamento'].value_counts()"
   ]
  },
  {
   "cell_type": "markdown",
   "metadata": {},
   "source": [
    "Iniciando a criação dos visuais"
   ]
  },
  {
   "cell_type": "code",
   "execution_count": 56,
   "metadata": {},
   "outputs": [],
   "source": [
    "#unindo as duas base de dados \"clientes\" e \"vendas\"\n",
    "#como as duas base de dados obtêm a colua \"ID compra\", faremos essa junção por meio dessa coluna\n",
    "df = pd.merge(vendas, clientes, on='ID_compra')"
   ]
  },
  {
   "cell_type": "code",
   "execution_count": 57,
   "metadata": {},
   "outputs": [],
   "source": [
    "# Organizando as colunas na sequência desejada\n",
    "colunas_organizadas = [\n",
    "    \"ID_compra\", \"data\", \"horario\", \"categoria\", \"preco_unitario\",\n",
    "    \"quantidade\", \"frete\", \"metodo_pagamento\", \"ID_cliente\", \"idade\",\n",
    "    \"sexo_biologico\", \"cidade\", \"uf\", \"regiao\", \"cashback\", \"avaliacao_compra\"\n",
    "]\n",
    "\n",
    "df = df[colunas_organizadas]"
   ]
  },
  {
   "cell_type": "code",
   "execution_count": 58,
   "metadata": {},
   "outputs": [
    {
     "data": {
      "text/html": [
       "<div>\n",
       "<style scoped>\n",
       "    .dataframe tbody tr th:only-of-type {\n",
       "        vertical-align: middle;\n",
       "    }\n",
       "\n",
       "    .dataframe tbody tr th {\n",
       "        vertical-align: top;\n",
       "    }\n",
       "\n",
       "    .dataframe thead th {\n",
       "        text-align: right;\n",
       "    }\n",
       "</style>\n",
       "<table border=\"1\" class=\"dataframe\">\n",
       "  <thead>\n",
       "    <tr style=\"text-align: right;\">\n",
       "      <th></th>\n",
       "      <th>ID_compra</th>\n",
       "      <th>data</th>\n",
       "      <th>horario</th>\n",
       "      <th>categoria</th>\n",
       "      <th>preco_unitario</th>\n",
       "      <th>quantidade</th>\n",
       "      <th>frete</th>\n",
       "      <th>metodo_pagamento</th>\n",
       "      <th>ID_cliente</th>\n",
       "      <th>idade</th>\n",
       "      <th>sexo_biologico</th>\n",
       "      <th>cidade</th>\n",
       "      <th>uf</th>\n",
       "      <th>regiao</th>\n",
       "      <th>cashback</th>\n",
       "      <th>avaliacao_compra</th>\n",
       "    </tr>\n",
       "  </thead>\n",
       "  <tbody>\n",
       "    <tr>\n",
       "      <th>0</th>\n",
       "      <td>6</td>\n",
       "      <td>2023-01-03</td>\n",
       "      <td>20:40</td>\n",
       "      <td>Eletrônicos</td>\n",
       "      <td>4457.9</td>\n",
       "      <td>4</td>\n",
       "      <td>713.26</td>\n",
       "      <td>Boleto</td>\n",
       "      <td>6149</td>\n",
       "      <td>30</td>\n",
       "      <td>Masculino</td>\n",
       "      <td>Porto Alegre</td>\n",
       "      <td>Rio Grande do Sul</td>\n",
       "      <td>Sul</td>\n",
       "      <td>Sim</td>\n",
       "      <td>10</td>\n",
       "    </tr>\n",
       "    <tr>\n",
       "      <th>1</th>\n",
       "      <td>5</td>\n",
       "      <td>2023-01-03</td>\n",
       "      <td>21:48</td>\n",
       "      <td>Ferramentas e construção</td>\n",
       "      <td>115.9</td>\n",
       "      <td>1</td>\n",
       "      <td>0.00</td>\n",
       "      <td>PIX</td>\n",
       "      <td>9491</td>\n",
       "      <td>36</td>\n",
       "      <td>Masculino</td>\n",
       "      <td>São Paulo</td>\n",
       "      <td>São Paulo</td>\n",
       "      <td>Sudeste</td>\n",
       "      <td>Sim</td>\n",
       "      <td>8</td>\n",
       "    </tr>\n",
       "    <tr>\n",
       "      <th>2</th>\n",
       "      <td>9</td>\n",
       "      <td>2023-01-03</td>\n",
       "      <td>17:08</td>\n",
       "      <td>Beleza e cuidados pessoais</td>\n",
       "      <td>68.9</td>\n",
       "      <td>2</td>\n",
       "      <td>13.78</td>\n",
       "      <td>Cartão de Crédito</td>\n",
       "      <td>5288</td>\n",
       "      <td>39</td>\n",
       "      <td>Feminino</td>\n",
       "      <td>Porto Velho</td>\n",
       "      <td>Rondônia</td>\n",
       "      <td>Norte</td>\n",
       "      <td>Não</td>\n",
       "      <td>7</td>\n",
       "    </tr>\n",
       "    <tr>\n",
       "      <th>3</th>\n",
       "      <td>4</td>\n",
       "      <td>2023-01-03</td>\n",
       "      <td>14:29</td>\n",
       "      <td>Ferramentas e construção</td>\n",
       "      <td>80.9</td>\n",
       "      <td>5</td>\n",
       "      <td>40.45</td>\n",
       "      <td>PIX</td>\n",
       "      <td>9679</td>\n",
       "      <td>35</td>\n",
       "      <td>Masculino</td>\n",
       "      <td>Recife</td>\n",
       "      <td>Pernambuco</td>\n",
       "      <td>Nordeste</td>\n",
       "      <td>Sim</td>\n",
       "      <td>9</td>\n",
       "    </tr>\n",
       "    <tr>\n",
       "      <th>4</th>\n",
       "      <td>8</td>\n",
       "      <td>2023-01-03</td>\n",
       "      <td>18:02</td>\n",
       "      <td>Beleza e cuidados pessoais</td>\n",
       "      <td>165.0</td>\n",
       "      <td>4</td>\n",
       "      <td>0.00</td>\n",
       "      <td>PIX</td>\n",
       "      <td>1380</td>\n",
       "      <td>50</td>\n",
       "      <td>Masculino</td>\n",
       "      <td>São Paulo</td>\n",
       "      <td>São Paulo</td>\n",
       "      <td>Sudeste</td>\n",
       "      <td>Não</td>\n",
       "      <td>9</td>\n",
       "    </tr>\n",
       "  </tbody>\n",
       "</table>\n",
       "</div>"
      ],
      "text/plain": [
       "   ID_compra       data horario                   categoria  preco_unitario  \\\n",
       "0          6 2023-01-03   20:40                 Eletrônicos          4457.9   \n",
       "1          5 2023-01-03   21:48    Ferramentas e construção           115.9   \n",
       "2          9 2023-01-03   17:08  Beleza e cuidados pessoais            68.9   \n",
       "3          4 2023-01-03   14:29    Ferramentas e construção            80.9   \n",
       "4          8 2023-01-03   18:02  Beleza e cuidados pessoais           165.0   \n",
       "\n",
       "   quantidade   frete   metodo_pagamento  ID_cliente  idade sexo_biologico  \\\n",
       "0           4  713.26             Boleto        6149     30      Masculino   \n",
       "1           1    0.00                PIX        9491     36      Masculino   \n",
       "2           2   13.78  Cartão de Crédito        5288     39       Feminino   \n",
       "3           5   40.45                PIX        9679     35      Masculino   \n",
       "4           4    0.00                PIX        1380     50      Masculino   \n",
       "\n",
       "         cidade                 uf    regiao cashback  avaliacao_compra  \n",
       "0  Porto Alegre  Rio Grande do Sul       Sul      Sim                10  \n",
       "1     São Paulo          São Paulo   Sudeste      Sim                 8  \n",
       "2   Porto Velho           Rondônia     Norte      Não                 7  \n",
       "3        Recife         Pernambuco  Nordeste      Sim                 9  \n",
       "4     São Paulo          São Paulo   Sudeste      Não                 9  "
      ]
     },
     "execution_count": 58,
     "metadata": {},
     "output_type": "execute_result"
    }
   ],
   "source": [
    "#verificação do DataFrame\n",
    "df.head()"
   ]
  },
  {
   "cell_type": "code",
   "execution_count": 63,
   "metadata": {},
   "outputs": [
    {
     "name": "stdout",
     "output_type": "stream",
     "text": [
      "Tabela 'metodos_de_pagamento':\n",
      "  Metodo de Pagamento  Quantidade\n",
      "0   Cartão de Crédito        2851\n",
      "1                 PIX        2244\n",
      "2    Cartão de Débito         547\n",
      "3              Boleto         527\n"
     ]
    },
    {
     "data": {
      "image/png": "[encoded data removed]",
      "text/plain": [
       "<Figure size 1200x800 with 1 Axes>"
      ]
     },
     "metadata": {},
     "output_type": "display_data"
    }
   ],
   "source": [
    "# Criar a tabela \"metodos_de_pagamento\"\n",
    "metodos_de_pagamento = df['metodo_pagamento'].value_counts().reset_index()\n",
    "metodos_de_pagamento.columns = ['Metodo de Pagamento', 'Quantidade']\n",
    "\n",
    "# Visualização\n",
    "plt.figure(figsize=(12, 8))\n",
    "plt.bar(metodos_de_pagamento['Metodo de Pagamento'], metodos_de_pagamento['Quantidade'], color='skyblue')\n",
    "plt.title('Quantidade de Métodos de Pagamento Utilizados')\n",
    "plt.xlabel('Método de Pagamento')\n",
    "plt.ylabel('Quantidade')\n",
    "plt.xticks(rotation=0, ha='center')\n",
    "\n",
    "# Exibir a tabela\n",
    "print(\"Tabela 'metodos_de_pagamento':\")\n",
    "print(metodos_de_pagamento)\n",
    "\n",
    "# Exibir o gráfico\n",
    "plt.show()"
   ]
  },
  {
   "cell_type": "code",
   "execution_count": 64,
   "metadata": {},
   "outputs": [
    {
     "data": {
      "text/html": [
       "<div>\n",
       "<style scoped>\n",
       "    .dataframe tbody tr th:only-of-type {\n",
       "        vertical-align: middle;\n",
       "    }\n",
       "\n",
       "    .dataframe tbody tr th {\n",
       "        vertical-align: top;\n",
       "    }\n",
       "\n",
       "    .dataframe thead th {\n",
       "        text-align: right;\n",
       "    }\n",
       "</style>\n",
       "<table border=\"1\" class=\"dataframe\">\n",
       "  <thead>\n",
       "    <tr style=\"text-align: right;\">\n",
       "      <th></th>\n",
       "      <th>Metodo de Pagamento</th>\n",
       "      <th>Quantidade</th>\n",
       "    </tr>\n",
       "  </thead>\n",
       "  <tbody>\n",
       "    <tr>\n",
       "      <th>0</th>\n",
       "      <td>Cartão de Crédito</td>\n",
       "      <td>2851</td>\n",
       "    </tr>\n",
       "    <tr>\n",
       "      <th>1</th>\n",
       "      <td>PIX</td>\n",
       "      <td>2244</td>\n",
       "    </tr>\n",
       "    <tr>\n",
       "      <th>2</th>\n",
       "      <td>Cartão de Débito</td>\n",
       "      <td>547</td>\n",
       "    </tr>\n",
       "    <tr>\n",
       "      <th>3</th>\n",
       "      <td>Boleto</td>\n",
       "      <td>527</td>\n",
       "    </tr>\n",
       "  </tbody>\n",
       "</table>\n",
       "</div>"
      ],
      "text/plain": [
       "  Metodo de Pagamento  Quantidade\n",
       "0   Cartão de Crédito        2851\n",
       "1                 PIX        2244\n",
       "2    Cartão de Débito         547\n",
       "3              Boleto         527"
      ]
     },
     "execution_count": 64,
     "metadata": {},
     "output_type": "execute_result"
    }
   ],
   "source": [
    "# Criar a tabela \"metodos_de_pagamento\"\n",
    "metodos_de_pagamento = df['metodo_pagamento'].value_counts().reset_index()\n",
    "metodos_de_pagamento.columns = ['Metodo de Pagamento', 'Quantidade']\n",
    "\n",
    "metodos_de_pagamento"
   ]
  },
  {
   "cell_type": "code",
   "execution_count": 65,
   "metadata": {},
   "outputs": [
    {
     "data": {
      "image/png": "[encoded data removed]",
      "text/plain": [
       "<Figure size 1200x800 with 1 Axes>"
      ]
     },
     "metadata": {},
     "output_type": "display_data"
    }
   ],
   "source": [
    "# Visualização\n",
    "plt.figure(figsize=(12, 8))\n",
    "plt.bar(metodos_de_pagamento['Metodo de Pagamento'], metodos_de_pagamento['Quantidade'], color='skyblue')\n",
    "plt.title('Quantidade de Métodos de Pagamento Utilizados')\n",
    "plt.xlabel('Método de Pagamento')\n",
    "plt.ylabel('Quantidade')\n",
    "plt.xticks(rotation=0, ha='center')\n",
    "\n",
    "# Exibir o gráfico\n",
    "plt.show()"
   ]
  },
  {
   "cell_type": "code",
   "execution_count": 66,
   "metadata": {},
   "outputs": [
    {
     "data": {
      "image/png": "[encoded data removed]",
      "text/plain": [
       "<Figure size 1200x800 with 1 Axes>"
      ]
     },
     "metadata": {},
     "output_type": "display_data"
    }
   ],
   "source": [
    "# Calcular o faturamento para cada categoria\n",
    "df['faturamento'] = (df['preco_unitario'] * df['quantidade']) + df['frete']\n",
    "\n",
    "# Agrupar por categoria e calcular o faturamento total\n",
    "faturamento_por_categoria = df.groupby('categoria')['faturamento'].sum().reset_index()\n",
    "\n",
    "# Ordenar por faturamento\n",
    "faturamento_por_categoria = faturamento_por_categoria.sort_values(by='faturamento', ascending=False)\n",
    "\n",
    "# Visualização\n",
    "plt.figure(figsize=(12, 8))\n",
    "plt.barh(faturamento_por_categoria['categoria'], faturamento_por_categoria['faturamento'], color='skyblue')\n",
    "plt.title('Faturamento por Categoria')\n",
    "plt.xlabel('Faturamento')\n",
    "plt.ylabel('Categoria')\n",
    "\n",
    "# Exibir o gráfico\n",
    "plt.show()"
   ]
  },
  {
   "cell_type": "code",
   "execution_count": 69,
   "metadata": {},
   "outputs": [
    {
     "data": {
      "image/png": "[encoded data removed]",
      "text/plain": [
       "<Figure size 1200x600 with 1 Axes>"
      ]
     },
     "metadata": {},
     "output_type": "display_data"
    }
   ],
   "source": [
    "# Dicionário de tradução de meses\n",
    "meses = {\n",
    "    'January': 'Jan',\n",
    "    'February': 'Fev',\n",
    "    'March': 'Mar',\n",
    "    'April': 'Abr',\n",
    "    'May': 'Mai',\n",
    "    'June': 'Jun',\n",
    "    'July': 'Jul',\n",
    "    'August': 'Ago',\n",
    "    'September': 'Set',\n",
    "    'October': 'Out',\n",
    "    'November': 'Nov',\n",
    "    'December': 'Dez'\n",
    "}\n",
    "\n",
    "# Agrupar por mês e calcular as vendas totais\n",
    "df['mes'] = df['data'].dt.strftime('%B')\n",
    "vendas_mensais = df.groupby('mes')['faturamento'].sum().reindex(meses.keys())\n",
    "\n",
    "# Configurações do gráfico\n",
    "plt.figure(figsize=(12, 6))\n",
    "plt.plot(vendas_mensais.index, vendas_mensais, marker='o', color='#1890FF', linewidth=2)\n",
    "\n",
    "# Adicionar rótulos e título\n",
    "plt.title('Vendas Totais Mensais da Zoop', fontsize=18, color='#555555')\n",
    "plt.xlabel('Mês', fontsize=12)\n",
    "plt.ylabel('Vendas', fontsize=12)\n",
    "\n",
    "# Alterar rótulos do eixo x utilizando o dicionário de tradução\n",
    "plt.xticks(vendas_mensais.index, [meses[mes] for mes in vendas_mensais.index], fontsize=10, color='#1890FF')\n",
    "\n",
    "# Exibir o gráfico\n",
    "plt.show()"
   ]
  },
  {
   "cell_type": "code",
   "execution_count": null,
   "metadata": {},
   "outputs": [],
   "source": []
  }
 ],
 "metadata": {
  "kernelspec": {
   "display_name": "Python 3",
   "language": "python",
   "name": "python3"
  },
  "language_info": {
   "codemirror_mode": {
    "name": "ipython",
    "version": 3
   },
   "file_extension": ".py",
   "mimetype": "text/x-python",
   "name": "python",
   "nbconvert_exporter": "python",
   "pygments_lexer": "ipython3",
   "version": "3.11.9"
  }
 },
 "nbformat": 4,
 "nbformat_minor": 2
}
